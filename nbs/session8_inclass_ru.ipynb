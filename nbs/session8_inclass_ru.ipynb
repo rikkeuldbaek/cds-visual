{
 "cells": [
  {
   "attachments": {},
   "cell_type": "markdown",
   "metadata": {},
   "source": [
    "# Introducing CNNS with TensorFlow\n",
    "\n",
    "\n",
    "In this notebook, we're going to see how we can use ```TensorFlow``` to build convolutional neural networks to work with colour image data."
   ]
  },
  {
   "cell_type": "markdown",
   "metadata": {},
   "source": [
    "## Load libraries"
   ]
  },
  {
   "cell_type": "code",
   "execution_count": 2,
   "metadata": {
    "execution": {
     "iopub.execute_input": "2022-04-06T10:39:13.301627Z",
     "iopub.status.busy": "2022-04-06T10:39:13.301074Z",
     "iopub.status.idle": "2022-04-06T10:39:15.489769Z",
     "shell.execute_reply": "2022-04-06T10:39:15.488116Z",
     "shell.execute_reply.started": "2022-04-06T10:39:13.301569Z"
    }
   },
   "outputs": [],
   "source": [
    "# data tools\n",
    "import os\n",
    "import numpy as np\n",
    "import matplotlib.pyplot as plt\n",
    "\n",
    "# sklearn tools\n",
    "from sklearn.preprocessing import LabelBinarizer\n",
    "from sklearn.metrics import classification_report\n",
    "\n",
    "# tf tools\n",
    "from tensorflow.keras.datasets import cifar10\n",
    "from tensorflow.keras.models import Sequential\n",
    "from tensorflow.keras.layers import (Conv2D, \n",
    "                                     MaxPooling2D, \n",
    "                                     Activation, \n",
    "                                     Flatten, \n",
    "                                     Dense)\n",
    "from tensorflow.keras.utils import plot_model\n",
    "from tensorflow.keras.optimizers import SGD\n",
    "from tensorflow.keras import backend as K\n"
   ]
  },
  {
   "cell_type": "markdown",
   "metadata": {},
   "source": [
    "__Define plotting function__"
   ]
  },
  {
   "cell_type": "code",
   "execution_count": 3,
   "metadata": {
    "execution": {
     "iopub.execute_input": "2022-04-06T10:43:29.152312Z",
     "iopub.status.busy": "2022-04-06T10:43:29.151745Z",
     "iopub.status.idle": "2022-04-06T10:43:29.166643Z",
     "shell.execute_reply": "2022-04-06T10:43:29.165251Z",
     "shell.execute_reply.started": "2022-04-06T10:43:29.152253Z"
    },
    "tags": []
   },
   "outputs": [],
   "source": [
    "def plot_history(H, epochs):\n",
    "    plt.style.use(\"seaborn-colorblind\")\n",
    "\n",
    "    plt.figure(figsize=(12,6))\n",
    "    plt.subplot(1,2,1)\n",
    "    plt.plot(np.arange(0, epochs), H.history[\"loss\"], label=\"train_loss\")\n",
    "    plt.plot(np.arange(0, epochs), H.history[\"val_loss\"], label=\"val_loss\", linestyle=\":\")\n",
    "    plt.title(\"Loss curve\")\n",
    "    plt.xlabel(\"Epoch\")\n",
    "    plt.ylabel(\"Loss\")\n",
    "    plt.tight_layout()\n",
    "    plt.legend()\n",
    "\n",
    "    plt.subplot(1,2,2)\n",
    "    plt.plot(np.arange(0, epochs), H.history[\"accuracy\"], label=\"train_acc\")\n",
    "    plt.plot(np.arange(0, epochs), H.history[\"val_accuracy\"], label=\"val_acc\", linestyle=\":\")\n",
    "    plt.title(\"Accuracy curve\")\n",
    "    plt.xlabel(\"Epoch\")\n",
    "    plt.ylabel(\"Accuracy\")\n",
    "    plt.tight_layout()\n",
    "    plt.legend()\n",
    "    plt.show()"
   ]
  },
  {
   "cell_type": "markdown",
   "metadata": {},
   "source": [
    "__Load cifar10 data__"
   ]
  },
  {
   "attachments": {},
   "cell_type": "markdown",
   "metadata": {},
   "source": [
    "We first want to load the ```cifar-10``` dataset, normalize the values, and then binarize the labels."
   ]
  },
  {
   "cell_type": "code",
   "execution_count": 4,
   "metadata": {
    "execution": {
     "iopub.execute_input": "2022-04-06T10:45:48.273637Z",
     "iopub.status.busy": "2022-04-06T10:45:48.273092Z",
     "iopub.status.idle": "2022-04-06T10:45:57.745123Z",
     "shell.execute_reply": "2022-04-06T10:45:57.743714Z",
     "shell.execute_reply.started": "2022-04-06T10:45:48.273578Z"
    }
   },
   "outputs": [
    {
     "name": "stdout",
     "output_type": "stream",
     "text": [
      "Downloading data from https://www.cs.toronto.edu/~kriz/cifar-10-python.tar.gz\n",
      "170498071/170498071 [==============================] - 7s 0us/step\n"
     ]
    }
   ],
   "source": [
    "(X_train, y_train), (X_test, y_test) = cifar10.load_data()"
   ]
  },
  {
   "attachments": {},
   "cell_type": "markdown",
   "metadata": {},
   "source": [
    "**Question:** As an experiment, see what happens if you try to train the model with un-scaled images. Does it affect performance?"
   ]
  },
  {
   "cell_type": "code",
   "execution_count": 5,
   "metadata": {
    "execution": {
     "iopub.execute_input": "2022-04-06T11:29:37.235138Z",
     "iopub.status.busy": "2022-04-06T11:29:37.234573Z",
     "iopub.status.idle": "2022-04-06T11:29:37.701534Z",
     "shell.execute_reply": "2022-04-06T11:29:37.699781Z",
     "shell.execute_reply.started": "2022-04-06T11:29:37.235080Z"
    },
    "tags": []
   },
   "outputs": [],
   "source": [
    "X_train = X_train/255 #normalize to same size\n",
    "X_test = X_test/255 #normalize to same size"
   ]
  },
  {
   "cell_type": "code",
   "execution_count": 6,
   "metadata": {
    "execution": {
     "iopub.execute_input": "2022-04-06T11:29:38.852624Z",
     "iopub.status.busy": "2022-04-06T11:29:38.852137Z",
     "iopub.status.idle": "2022-04-06T11:29:38.905796Z",
     "shell.execute_reply": "2022-04-06T11:29:38.904528Z",
     "shell.execute_reply.started": "2022-04-06T11:29:38.852569Z"
    },
    "tags": []
   },
   "outputs": [],
   "source": [
    "# create one-hot encodings\n",
    "lb = LabelBinarizer() # uses one-hot encoding on the labels to make numerical representations of labels\n",
    "y_train = lb.fit_transform(y_train)\n",
    "y_test = lb.fit_transform(y_test)"
   ]
  },
  {
   "attachments": {},
   "cell_type": "markdown",
   "metadata": {},
   "source": [
    "We'll also manually create a list of labels for when we come to print the classification report later."
   ]
  },
  {
   "cell_type": "code",
   "execution_count": 7,
   "metadata": {
    "execution": {
     "iopub.execute_input": "2022-04-06T11:29:42.542423Z",
     "iopub.status.busy": "2022-04-06T11:29:42.541855Z",
     "iopub.status.idle": "2022-04-06T11:29:42.550121Z",
     "shell.execute_reply": "2022-04-06T11:29:42.548686Z",
     "shell.execute_reply.started": "2022-04-06T11:29:42.542364Z"
    },
    "tags": []
   },
   "outputs": [],
   "source": [
    "# initialize label names for CIFAR-10 dataset\n",
    "label_names = [\"airplane\", \"automobile\", \n",
    "              \"bird\", \"cat\", \n",
    "              \"deer\", \"dog\", \n",
    "              \"frog\", \"horse\", \n",
    "              \"ship\", \"truck\"]"
   ]
  },
  {
   "cell_type": "markdown",
   "metadata": {},
   "source": [
    "## ShallowNet "
   ]
  },
  {
   "attachments": {},
   "cell_type": "markdown",
   "metadata": {},
   "source": [
    "We're going to begin by creating one of the simplest CNN architectures with only a single convolutional layer. This type of architecture is known as the ShallowNet architecture:\n",
    ">INPUT => CONV => ReLU => FC"
   ]
  },
  {
   "cell_type": "code",
   "execution_count": 8,
   "metadata": {
    "execution": {
     "iopub.execute_input": "2022-04-06T11:49:06.518186Z",
     "iopub.status.busy": "2022-04-06T11:49:06.517636Z",
     "iopub.status.idle": "2022-04-06T11:49:06.573755Z",
     "shell.execute_reply": "2022-04-06T11:49:06.573032Z",
     "shell.execute_reply.started": "2022-04-06T11:49:06.518128Z"
    },
    "tags": []
   },
   "outputs": [],
   "source": [
    "#initalise model\n",
    "model = Sequential()\n",
    "\n",
    "# define CONV => ReLU\n",
    "model.add(Conv2D(32, #nodes\n",
    "                (3,3), #kernel size\n",
    "                padding = \"same\", # make 0 instead maybe\n",
    "                input_shape = (32, 32, 3))) # what size of input image they take\n",
    "model.add(Activation(\"relu\")) #activation function - overcomming vanishing gradients \n",
    "          \n",
    "# FC classifier\n",
    "model.add(Flatten()) # flatten to a single image embedding array (extracted features)\n",
    "model.add(Dense(128)) #layer with 128 nodes\n",
    "model.add(Activation(\"relu\"))\n",
    "model.add(Dense(10)) #output layer with 10 nodes\n",
    "model.add(Activation(\"softmax\"))\n",
    "\n",
    "#the layers are just added one at a time :) "
   ]
  },
  {
   "cell_type": "markdown",
   "metadata": {},
   "source": [
    "__Compile model__"
   ]
  },
  {
   "attachments": {},
   "cell_type": "markdown",
   "metadata": {},
   "source": [
    "We then compile our model using some of the same arguments we've already seen in different contexts."
   ]
  },
  {
   "cell_type": "code",
   "execution_count": 9,
   "metadata": {
    "execution": {
     "iopub.execute_input": "2022-04-06T11:49:11.681155Z",
     "iopub.status.busy": "2022-04-06T11:49:11.680491Z",
     "iopub.status.idle": "2022-04-06T11:49:11.694871Z",
     "shell.execute_reply": "2022-04-06T11:49:11.694086Z",
     "shell.execute_reply.started": "2022-04-06T11:49:11.681098Z"
    },
    "tags": []
   },
   "outputs": [],
   "source": [
    "sgd = SGD(learning_rate =.001)\n",
    "model.compile(loss=\"categorical_crossentropy\", \n",
    "              optimizer=sgd,\n",
    "              metrics=[\"accuracy\"]) #we're optimixing for accuracy "
   ]
  },
  {
   "cell_type": "markdown",
   "metadata": {},
   "source": [
    "__Model summary__"
   ]
  },
  {
   "cell_type": "code",
   "execution_count": 10,
   "metadata": {
    "execution": {
     "iopub.execute_input": "2022-04-06T11:49:16.029260Z",
     "iopub.status.busy": "2022-04-06T11:49:16.028743Z",
     "iopub.status.idle": "2022-04-06T11:49:16.053799Z",
     "shell.execute_reply": "2022-04-06T11:49:16.052984Z",
     "shell.execute_reply.started": "2022-04-06T11:49:16.029205Z"
    },
    "tags": []
   },
   "outputs": [
    {
     "name": "stdout",
     "output_type": "stream",
     "text": [
      "Model: \"sequential\"\n",
      "_________________________________________________________________\n",
      " Layer (type)                Output Shape              Param #   \n",
      "=================================================================\n",
      " conv2d (Conv2D)             (None, 32, 32, 32)        896       \n",
      "                                                                 \n",
      " activation (Activation)     (None, 32, 32, 32)        0         \n",
      "                                                                 \n",
      " flatten (Flatten)           (None, 32768)             0         \n",
      "                                                                 \n",
      " dense (Dense)               (None, 128)               4194432   \n",
      "                                                                 \n",
      " activation_1 (Activation)   (None, 128)               0         \n",
      "                                                                 \n",
      " dense_1 (Dense)             (None, 10)                1290      \n",
      "                                                                 \n",
      " activation_2 (Activation)   (None, 10)                0         \n",
      "                                                                 \n",
      "=================================================================\n",
      "Total params: 4,196,618\n",
      "Trainable params: 4,196,618\n",
      "Non-trainable params: 0\n",
      "_________________________________________________________________\n"
     ]
    }
   ],
   "source": [
    "model.summary()"
   ]
  },
  {
   "cell_type": "markdown",
   "metadata": {},
   "source": [
    "the convolutional layer  has only 892 values, while the classification dense layers (fully connected feed forward neural network) have 4194432 values, its because we flatten things into 1 before classification and after convoloution. "
   ]
  },
  {
   "cell_type": "markdown",
   "metadata": {},
   "source": [
    "__Plot model__"
   ]
  },
  {
   "cell_type": "code",
   "execution_count": 11,
   "metadata": {
    "execution": {
     "iopub.execute_input": "2022-04-06T11:49:19.812997Z",
     "iopub.status.busy": "2022-04-06T11:49:19.812468Z",
     "iopub.status.idle": "2022-04-06T11:49:20.098206Z",
     "shell.execute_reply": "2022-04-06T11:49:20.096565Z",
     "shell.execute_reply.started": "2022-04-06T11:49:19.812924Z"
    },
    "tags": []
   },
   "outputs": [
    {
     "name": "stdout",
     "output_type": "stream",
     "text": [
      "You must install pydot (`pip install pydot`) and install graphviz (see instructions at https://graphviz.gitlab.io/download/) for plot_model to work.\n"
     ]
    }
   ],
   "source": [
    "plot_model(model, show_shapes=True, show_layer_names=True)"
   ]
  },
  {
   "cell_type": "markdown",
   "metadata": {},
   "source": [
    "__Train model__"
   ]
  },
  {
   "attachments": {},
   "cell_type": "markdown",
   "metadata": {},
   "source": [
    "Finally, we train the model on the data and get our predictions."
   ]
  },
  {
   "cell_type": "code",
   "execution_count": 12,
   "metadata": {
    "execution": {
     "iopub.execute_input": "2022-04-06T11:49:24.543998Z",
     "iopub.status.busy": "2022-04-06T11:49:24.543465Z",
     "iopub.status.idle": "2022-04-06T11:53:31.220699Z",
     "shell.execute_reply": "2022-04-06T11:53:31.219175Z",
     "shell.execute_reply.started": "2022-04-06T11:49:24.543927Z"
    },
    "tags": []
   },
   "outputs": [
    {
     "name": "stdout",
     "output_type": "stream",
     "text": [
      "Epoch 1/20\n",
      "1407/1407 [==============================] - 22s 16ms/step - loss: 2.0457 - accuracy: 0.2770 - val_loss: 1.9486 - val_accuracy: 0.3084\n",
      "Epoch 2/20\n",
      "1407/1407 [==============================] - 21s 15ms/step - loss: 1.8544 - accuracy: 0.3552 - val_loss: 1.8347 - val_accuracy: 0.3502\n",
      "Epoch 3/20\n",
      "1407/1407 [==============================] - 21s 15ms/step - loss: 1.7809 - accuracy: 0.3798 - val_loss: 1.7935 - val_accuracy: 0.3616\n",
      "Epoch 4/20\n",
      "1407/1407 [==============================] - 22s 15ms/step - loss: 1.7264 - accuracy: 0.4004 - val_loss: 1.7252 - val_accuracy: 0.3968\n",
      "Epoch 5/20\n",
      "1407/1407 [==============================] - 21s 15ms/step - loss: 1.6802 - accuracy: 0.4137 - val_loss: 1.7125 - val_accuracy: 0.3936\n",
      "Epoch 6/20\n",
      "1407/1407 [==============================] - 22s 15ms/step - loss: 1.6395 - accuracy: 0.4297 - val_loss: 1.6488 - val_accuracy: 0.4252\n",
      "Epoch 7/20\n",
      "1407/1407 [==============================] - 21s 15ms/step - loss: 1.6026 - accuracy: 0.4436 - val_loss: 1.6479 - val_accuracy: 0.4168\n",
      "Epoch 8/20\n",
      "1407/1407 [==============================] - 22s 15ms/step - loss: 1.5682 - accuracy: 0.4514 - val_loss: 1.6216 - val_accuracy: 0.4142\n",
      "Epoch 9/20\n",
      "1407/1407 [==============================] - 21s 15ms/step - loss: 1.5356 - accuracy: 0.4629 - val_loss: 1.5628 - val_accuracy: 0.4546\n",
      "Epoch 10/20\n",
      "1407/1407 [==============================] - 22s 15ms/step - loss: 1.5071 - accuracy: 0.4729 - val_loss: 1.5398 - val_accuracy: 0.4554\n",
      "Epoch 11/20\n",
      "1407/1407 [==============================] - 22s 15ms/step - loss: 1.4770 - accuracy: 0.4828 - val_loss: 1.5057 - val_accuracy: 0.4696\n",
      "Epoch 12/20\n",
      "1407/1407 [==============================] - 22s 16ms/step - loss: 1.4511 - accuracy: 0.4899 - val_loss: 1.4816 - val_accuracy: 0.4680\n",
      "Epoch 13/20\n",
      "1407/1407 [==============================] - 22s 15ms/step - loss: 1.4267 - accuracy: 0.4991 - val_loss: 1.4841 - val_accuracy: 0.4738\n",
      "Epoch 14/20\n",
      "1407/1407 [==============================] - 22s 16ms/step - loss: 1.4049 - accuracy: 0.5063 - val_loss: 1.4708 - val_accuracy: 0.4776\n",
      "Epoch 15/20\n",
      "1407/1407 [==============================] - 22s 16ms/step - loss: 1.3854 - accuracy: 0.5133 - val_loss: 1.4204 - val_accuracy: 0.5046\n",
      "Epoch 16/20\n",
      "1407/1407 [==============================] - 22s 16ms/step - loss: 1.3648 - accuracy: 0.5193 - val_loss: 1.4058 - val_accuracy: 0.5002\n",
      "Epoch 17/20\n",
      "1407/1407 [==============================] - 22s 16ms/step - loss: 1.3489 - accuracy: 0.5260 - val_loss: 1.4129 - val_accuracy: 0.4936\n",
      "Epoch 18/20\n",
      "1407/1407 [==============================] - 22s 16ms/step - loss: 1.3332 - accuracy: 0.5325 - val_loss: 1.3900 - val_accuracy: 0.5006\n",
      "Epoch 19/20\n",
      "1407/1407 [==============================] - 22s 16ms/step - loss: 1.3184 - accuracy: 0.5364 - val_loss: 1.4869 - val_accuracy: 0.4666\n",
      "Epoch 20/20\n",
      "1407/1407 [==============================] - 22s 16ms/step - loss: 1.3040 - accuracy: 0.5404 - val_loss: 1.4312 - val_accuracy: 0.4888\n"
     ]
    }
   ],
   "source": [
    "H = model.fit(X_train, \n",
    "              y_train,\n",
    "              validation_split=0.1,\n",
    "              batch_size=32,\n",
    "              epochs=20,\n",
    "              verbose=1)"
   ]
  },
  {
   "cell_type": "markdown",
   "metadata": {},
   "source": [
    "__Evaluate model__"
   ]
  },
  {
   "cell_type": "code",
   "execution_count": 13,
   "metadata": {
    "execution": {
     "iopub.execute_input": "2022-04-06T11:53:33.804125Z",
     "iopub.status.busy": "2022-04-06T11:53:33.803618Z",
     "iopub.status.idle": "2022-04-06T11:53:34.959096Z",
     "shell.execute_reply": "2022-04-06T11:53:34.957961Z",
     "shell.execute_reply.started": "2022-04-06T11:53:33.804072Z"
    },
    "tags": []
   },
   "outputs": [
    {
     "name": "stdout",
     "output_type": "stream",
     "text": [
      "313/313 [==============================] - 1s 4ms/step\n"
     ]
    }
   ],
   "source": [
    "predictions = model.predict(X_test, batch_size=32)"
   ]
  },
  {
   "cell_type": "code",
   "execution_count": 14,
   "metadata": {
    "execution": {
     "iopub.execute_input": "2022-04-06T11:53:34.992910Z",
     "iopub.status.busy": "2022-04-06T11:53:34.992786Z",
     "iopub.status.idle": "2022-04-06T11:53:35.016822Z",
     "shell.execute_reply": "2022-04-06T11:53:35.015863Z",
     "shell.execute_reply.started": "2022-04-06T11:53:34.992895Z"
    },
    "tags": []
   },
   "outputs": [
    {
     "name": "stdout",
     "output_type": "stream",
     "text": [
      "              precision    recall  f1-score   support\n",
      "\n",
      "    airplane       0.73      0.27      0.40      1000\n",
      "  automobile       0.60      0.67      0.63      1000\n",
      "        bird       0.47      0.20      0.28      1000\n",
      "         cat       0.40      0.36      0.38      1000\n",
      "        deer       0.41      0.50      0.45      1000\n",
      "         dog       0.58      0.20      0.30      1000\n",
      "        frog       0.49      0.68      0.57      1000\n",
      "       horse       0.47      0.66      0.55      1000\n",
      "        ship       0.41      0.83      0.55      1000\n",
      "       truck       0.62      0.51      0.56      1000\n",
      "\n",
      "    accuracy                           0.49     10000\n",
      "   macro avg       0.52      0.49      0.47     10000\n",
      "weighted avg       0.52      0.49      0.47     10000\n",
      "\n"
     ]
    }
   ],
   "source": [
    "print(classification_report(y_test.argmax(axis=1),\n",
    "                            predictions.argmax(axis=1),\n",
    "                            target_names=label_names))"
   ]
  },
  {
   "cell_type": "markdown",
   "metadata": {},
   "source": [
    "Comparing these results using convoloutional neural networks with logistic regression and neural network from previous classes, we see that the convolutional neural network performs better :))) \n",
    "- simply changing the architecture of the neural network (adding convoloutional layers and pooling layers), makes the model perform better feature extraction (image embeddings) and thus increases accuracy.\n",
    "\n",
    "However, the model still has a hard time learning to classify the category \"bird\", and the performance is only just above fitty perciento <3 :)) "
   ]
  },
  {
   "attachments": {},
   "cell_type": "markdown",
   "metadata": {},
   "source": [
    "We can also use the ```plot_history()``` function available from ```TensorFlow``` to see how our model performs during training.\n",
    "\n",
    "These plots can tell us *a lot* about whether a model is under- or over-fiting the data. You read more at [this fantastic blog post](https://machinelearningmastery.com/learning-curves-for-diagnosing-machine-learning-model-performance/). \n",
    "\n",
    "Other useful blogs are [here](https://rstudio-conf-2020.github.io/dl-keras-tf/notebooks/learning-curve-diagnostics.nb.html) and there's a good video overview [here](https://youtu.be/p3CcfIjycBA)."
   ]
  },
  {
   "cell_type": "code",
   "execution_count": 16,
   "metadata": {
    "execution": {
     "iopub.execute_input": "2022-04-06T11:53:46.390120Z",
     "iopub.status.busy": "2022-04-06T11:53:46.389589Z",
     "iopub.status.idle": "2022-04-06T11:53:46.746258Z",
     "shell.execute_reply": "2022-04-06T11:53:46.745649Z",
     "shell.execute_reply.started": "2022-04-06T11:53:46.390066Z"
    },
    "tags": []
   },
   "outputs": [
    {
     "name": "stderr",
     "output_type": "stream",
     "text": [
      "/tmp/ipykernel_1477/3716877966.py:2: MatplotlibDeprecationWarning: The seaborn styles shipped by Matplotlib are deprecated since 3.6, as they no longer correspond to the styles shipped by seaborn. However, they will remain available as 'seaborn-v0_8-<style>'. Alternatively, directly use the seaborn API instead.\n",
      "  plt.style.use(\"seaborn-colorblind\")\n"
     ]
    },
    {
     "data": {
      "image/png": "[encoded data removed]",
      "text/plain": [
       "<Figure size 1200x600 with 2 Axes>"
      ]
     },
     "metadata": {},
     "output_type": "display_data"
    }
   ],
   "source": [
    "plot_history(H, 20)"
   ]
  },
  {
   "cell_type": "markdown",
   "metadata": {},
   "source": [
    "## LeNet"
   ]
  },
  {
   "attachments": {},
   "cell_type": "markdown",
   "metadata": {},
   "source": [
    "Next, we'll look at a slightly more complicated CNN architecture, known as ```LeNet``` after its creator Yann LeCun, who is now Chief AI Scientist at Meta. You can read more [here](https://en.wikipedia.org/wiki/LeNet).\n",
    ">INPUT => CONV => ReLU => MAXPOOL => CONV => ReLU => MAXPOOL => FC => ReLU => FC"
   ]
  },
  {
   "cell_type": "markdown",
   "metadata": {},
   "source": [
    "__Define model__"
   ]
  },
  {
   "cell_type": "code",
   "execution_count": 15,
   "metadata": {
    "execution": {
     "iopub.execute_input": "2022-04-06T12:33:34.993026Z",
     "iopub.status.busy": "2022-04-06T12:33:34.992503Z",
     "iopub.status.idle": "2022-04-06T12:33:35.060581Z",
     "shell.execute_reply": "2022-04-06T12:33:35.059482Z",
     "shell.execute_reply.started": "2022-04-06T12:33:34.992971Z"
    },
    "tags": []
   },
   "outputs": [],
   "source": [
    "# define model\n",
    "model = Sequential()\n",
    "\n",
    "# first set of layers CONV => RELU => MAXPOOL\n",
    "model.add(Conv2D(32, (3,3),\n",
    "                 padding=\"same\",\n",
    "                 input_shape=(32,32,3)))\n",
    "model.add(Activation(\"relu\"))\n",
    "model.add(MaxPooling2D(pool_size = (2,2),\n",
    "                       strides = (2,2)))\n",
    "\n",
    "# second set of layers CONV => RELU => MAXPOOL\n",
    "model.add(Conv2D(50, (5,5),\n",
    "                 padding=\"same\"))\n",
    "model.add(Activation(\"relu\"))\n",
    "model.add(MaxPooling2D(pool_size = (2,2),\n",
    "                       strides = (2,2)))\n",
    "\n",
    "# FC => RELU\n",
    "model.add(Flatten())\n",
    "model.add(Dense(128))\n",
    "model.add(Activation(\"relu\"))\n",
    "\n",
    "# softmax classifier\n",
    "model.add(Dense(10))\n",
    "model.add(Activation(\"softmax\"))"
   ]
  },
  {
   "cell_type": "markdown",
   "metadata": {},
   "source": [
    "__Compile model__"
   ]
  },
  {
   "cell_type": "code",
   "execution_count": 16,
   "metadata": {
    "execution": {
     "iopub.execute_input": "2022-04-06T12:33:39.430087Z",
     "iopub.status.busy": "2022-04-06T12:33:39.429395Z",
     "iopub.status.idle": "2022-04-06T12:33:39.444910Z",
     "shell.execute_reply": "2022-04-06T12:33:39.443726Z",
     "shell.execute_reply.started": "2022-04-06T12:33:39.430027Z"
    },
    "tags": []
   },
   "outputs": [],
   "source": [
    "sgd = SGD(learning_rate=0.001)\n",
    "model.compile(loss=\"categorical_crossentropy\",\n",
    "              optimizer=sgd,\n",
    "              metrics=[\"accuracy\"])"
   ]
  },
  {
   "cell_type": "markdown",
   "metadata": {},
   "source": [
    "__Model summary__"
   ]
  },
  {
   "cell_type": "code",
   "execution_count": 17,
   "metadata": {
    "execution": {
     "iopub.execute_input": "2022-04-06T12:33:40.194325Z",
     "iopub.status.busy": "2022-04-06T12:33:40.193187Z",
     "iopub.status.idle": "2022-04-06T12:33:40.224235Z",
     "shell.execute_reply": "2022-04-06T12:33:40.223522Z",
     "shell.execute_reply.started": "2022-04-06T12:33:40.194258Z"
    },
    "tags": []
   },
   "outputs": [
    {
     "name": "stdout",
     "output_type": "stream",
     "text": [
      "Model: \"sequential_1\"\n",
      "_________________________________________________________________\n",
      " Layer (type)                Output Shape              Param #   \n",
      "=================================================================\n",
      " conv2d_1 (Conv2D)           (None, 32, 32, 32)        896       \n",
      "                                                                 \n",
      " activation_3 (Activation)   (None, 32, 32, 32)        0         \n",
      "                                                                 \n",
      " max_pooling2d (MaxPooling2D  (None, 16, 16, 32)       0         \n",
      " )                                                               \n",
      "                                                                 \n",
      " conv2d_2 (Conv2D)           (None, 16, 16, 50)        40050     \n",
      "                                                                 \n",
      " activation_4 (Activation)   (None, 16, 16, 50)        0         \n",
      "                                                                 \n",
      " max_pooling2d_1 (MaxPooling  (None, 8, 8, 50)         0         \n",
      " 2D)                                                             \n",
      "                                                                 \n",
      " flatten_1 (Flatten)         (None, 3200)              0         \n",
      "                                                                 \n",
      " dense_2 (Dense)             (None, 128)               409728    \n",
      "                                                                 \n",
      " activation_5 (Activation)   (None, 128)               0         \n",
      "                                                                 \n",
      " dense_3 (Dense)             (None, 10)                1290      \n",
      "                                                                 \n",
      " activation_6 (Activation)   (None, 10)                0         \n",
      "                                                                 \n",
      "=================================================================\n",
      "Total params: 451,964\n",
      "Trainable params: 451,964\n",
      "Non-trainable params: 0\n",
      "_________________________________________________________________\n"
     ]
    }
   ],
   "source": [
    "model.summary()"
   ]
  },
  {
   "cell_type": "markdown",
   "metadata": {},
   "source": [
    "__Train model__"
   ]
  },
  {
   "cell_type": "code",
   "execution_count": 18,
   "metadata": {
    "execution": {
     "iopub.execute_input": "2022-04-06T12:33:56.658288Z",
     "iopub.status.busy": "2022-04-06T12:33:56.657599Z",
     "iopub.status.idle": "2022-04-06T12:39:46.878708Z",
     "shell.execute_reply": "2022-04-06T12:39:46.877023Z",
     "shell.execute_reply.started": "2022-04-06T12:33:56.658226Z"
    },
    "tags": []
   },
   "outputs": [
    {
     "name": "stdout",
     "output_type": "stream",
     "text": [
      "Epoch 1/20\n",
      "1407/1407 [==============================] - 31s 22ms/step - loss: 2.2552 - accuracy: 0.1665 - val_loss: 2.1874 - val_accuracy: 0.2286\n",
      "Epoch 2/20\n",
      "1407/1407 [==============================] - 31s 22ms/step - loss: 2.0843 - accuracy: 0.2555 - val_loss: 2.0026 - val_accuracy: 0.2758\n",
      "Epoch 3/20\n",
      "1407/1407 [==============================] - 31s 22ms/step - loss: 1.9587 - accuracy: 0.2986 - val_loss: 1.9247 - val_accuracy: 0.3130\n",
      "Epoch 4/20\n",
      "1407/1407 [==============================] - 31s 22ms/step - loss: 1.8898 - accuracy: 0.3318 - val_loss: 1.8779 - val_accuracy: 0.3326\n",
      "Epoch 5/20\n",
      "1407/1407 [==============================] - 31s 22ms/step - loss: 1.8224 - accuracy: 0.3595 - val_loss: 1.7979 - val_accuracy: 0.3648\n",
      "Epoch 6/20\n",
      "1407/1407 [==============================] - 31s 22ms/step - loss: 1.7561 - accuracy: 0.3825 - val_loss: 1.7377 - val_accuracy: 0.3826\n",
      "Epoch 7/20\n",
      "1407/1407 [==============================] - 31s 22ms/step - loss: 1.6964 - accuracy: 0.4055 - val_loss: 1.6970 - val_accuracy: 0.3924\n",
      "Epoch 8/20\n",
      "1407/1407 [==============================] - 31s 22ms/step - loss: 1.6437 - accuracy: 0.4185 - val_loss: 1.6551 - val_accuracy: 0.4000\n",
      "Epoch 9/20\n",
      "1407/1407 [==============================] - 31s 22ms/step - loss: 1.6024 - accuracy: 0.4343 - val_loss: 1.6038 - val_accuracy: 0.4302\n",
      "Epoch 10/20\n",
      "1407/1407 [==============================] - 31s 22ms/step - loss: 1.5659 - accuracy: 0.4463 - val_loss: 1.6424 - val_accuracy: 0.4034\n",
      "Epoch 11/20\n",
      "1407/1407 [==============================] - 31s 22ms/step - loss: 1.5299 - accuracy: 0.4577 - val_loss: 1.5175 - val_accuracy: 0.4598\n",
      "Epoch 12/20\n",
      "1407/1407 [==============================] - 31s 22ms/step - loss: 1.4965 - accuracy: 0.4696 - val_loss: 1.4943 - val_accuracy: 0.4640\n",
      "Epoch 13/20\n",
      "1407/1407 [==============================] - 32s 23ms/step - loss: 1.4653 - accuracy: 0.4813 - val_loss: 1.4580 - val_accuracy: 0.4798\n",
      "Epoch 14/20\n",
      "1407/1407 [==============================] - 31s 22ms/step - loss: 1.4370 - accuracy: 0.4915 - val_loss: 1.4849 - val_accuracy: 0.4584\n",
      "Epoch 15/20\n",
      "1407/1407 [==============================] - 31s 22ms/step - loss: 1.4126 - accuracy: 0.5001 - val_loss: 1.4547 - val_accuracy: 0.4760\n",
      "Epoch 16/20\n",
      "1407/1407 [==============================] - 31s 22ms/step - loss: 1.3903 - accuracy: 0.5095 - val_loss: 1.5232 - val_accuracy: 0.4632\n",
      "Epoch 17/20\n",
      "1407/1407 [==============================] - 32s 23ms/step - loss: 1.3701 - accuracy: 0.5153 - val_loss: 1.3843 - val_accuracy: 0.5102\n",
      "Epoch 18/20\n",
      "1407/1407 [==============================] - 31s 22ms/step - loss: 1.3503 - accuracy: 0.5247 - val_loss: 1.4394 - val_accuracy: 0.4940\n",
      "Epoch 19/20\n",
      "1407/1407 [==============================] - 31s 22ms/step - loss: 1.3321 - accuracy: 0.5299 - val_loss: 1.3518 - val_accuracy: 0.5180\n",
      "Epoch 20/20\n",
      "1407/1407 [==============================] - 32s 22ms/step - loss: 1.3138 - accuracy: 0.5358 - val_loss: 1.3225 - val_accuracy: 0.5328\n"
     ]
    }
   ],
   "source": [
    "# train model\n",
    "H = model.fit(X_train, \n",
    "              y_train, \n",
    "              validation_split=0.1, \n",
    "              batch_size=32,\n",
    "              epochs=20,\n",
    "              verbose=1)"
   ]
  },
  {
   "cell_type": "code",
   "execution_count": null,
   "metadata": {
    "execution": {
     "iopub.execute_input": "2022-04-06T12:39:49.678682Z",
     "iopub.status.busy": "2022-04-06T12:39:49.678169Z",
     "iopub.status.idle": "2022-04-06T12:39:49.917519Z",
     "shell.execute_reply": "2022-04-06T12:39:49.916956Z",
     "shell.execute_reply.started": "2022-04-06T12:39:49.678628Z"
    },
    "tags": []
   },
   "outputs": [],
   "source": [
    "plot_history(H,20)"
   ]
  },
  {
   "cell_type": "code",
   "execution_count": null,
   "metadata": {
    "execution": {
     "iopub.execute_input": "2022-04-06T12:40:25.637585Z",
     "iopub.status.busy": "2022-04-06T12:40:25.637081Z",
     "iopub.status.idle": "2022-04-06T12:40:27.143891Z",
     "shell.execute_reply": "2022-04-06T12:40:27.143357Z",
     "shell.execute_reply.started": "2022-04-06T12:40:25.637533Z"
    },
    "tags": []
   },
   "outputs": [],
   "source": [
    "predictions = model.predict(X_test, batch_size=32)\n",
    "print(classification_report(y_test.argmax(axis=1),\n",
    "                            predictions.argmax(axis=1),\n",
    "                            target_names=label_names))"
   ]
  }
 ],
 "metadata": {
  "kernelspec": {
   "display_name": "Python 3",
   "language": "python",
   "name": "python3"
  },
  "language_info": {
   "codemirror_mode": {
    "name": "ipython",
    "version": 3
   },
   "file_extension": ".py",
   "mimetype": "text/x-python",
   "name": "python",
   "nbconvert_exporter": "python",
   "pygments_lexer": "ipython3",
   "version": "3.9.2"
  },
  "vscode": {
   "interpreter": {
    "hash": "767d51c1340bd893661ea55ea3124f6de3c7a262a8b4abca0554b478b1e2ff90"
   }
  }
 },
 "nbformat": 4,
 "nbformat_minor": 4
}
